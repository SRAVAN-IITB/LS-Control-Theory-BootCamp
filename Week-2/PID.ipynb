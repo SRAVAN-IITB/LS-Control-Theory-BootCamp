{
 "cells": [
  {
   "cell_type": "markdown",
   "metadata": {
    "id": "519f0c10"
   },
   "source": [
    "### PID Control\n",
    "\n",
    "PID stands for Proportional-Integral-Derivative. It is a special type of closed loop control law that is widely used.\n",
    "\n",
    "For an introduction to PID Control watch the following videos"
   ]
  },
  {
   "cell_type": "code",
   "execution_count": null,
   "metadata": {
    "colab": {
     "base_uri": "https://localhost:8080/",
     "height": 337
    },
    "id": "dd3106e9",
    "outputId": "1e42479b-ad20-46bf-9ac9-8bf7ed195f64"
   },
   "outputs": [
    {
     "data": {
      "text/html": [
       "<iframe width=\"560\" height=\"315\" src=\"https://www.youtube.com/embed/4Y7zG48uHRo\" title=\"YouTube video player\" frameborder=\"0\" allow=\"accelerometer; autoplay; clipboard-write; encrypted-media; gyroscope; picture-in-picture\" allowfullscreen></iframe>"
      ],
      "text/plain": [
       "<IPython.core.display.HTML object>"
      ]
     },
     "metadata": {},
     "output_type": "display_data"
    }
   ],
   "source": [
    "%%HTML\n",
    "<iframe width=\"560\" height=\"315\" src=\"https://www.youtube.com/embed/4Y7zG48uHRo\" title=\"YouTube video player\" frameborder=\"0\" allow=\"accelerometer; autoplay; clipboard-write; encrypted-media; gyroscope; picture-in-picture\" allowfullscreen></iframe>"
   ]
  },
  {
   "cell_type": "markdown",
   "metadata": {
    "id": "f9c4e677"
   },
   "source": [
    "**Control law for PID controller**  \n",
    "\n",
    "$$ u(t) = K_p e(t) + K_i \\int e(t) dt + K_d e'(t) = K_p(e(t) + \\frac{1}{\\tau_i}\\int e(t) dt + \\tau_d e'(t))$$\n",
    "\n",
    "* $K_p$ is the proportional weight\n",
    "* $K_i$ is the integral weight\n",
    "* $K_d$ is the derivative weight\n",
    "* $\\tau_i$ is the integral time constant\n",
    "* $\\tau_d$ is the derivative time constant\n",
    "\n",
    "\n",
    "Note, here $e(t)$ is the measured error between desired state and actual state. $u(t)$ is the **plant input** and also the **controller output**.\n",
    "\n",
    "**Intuition behind the role of different components**\n",
    "\n",
    "* **P (Proportional)** - In many simple situations, proportional control ensures that the desired state (set point) is asymptotically reached from the initial state. It deals with the knowledge of the present error.\n",
    "\n",
    "* **I (Integral)** - Integral control takes into account the past errors and their duration of persistence, thus it plays an important role in reducing steady-state error in many situations. It deals with the knowledge of past errors.\n",
    "\n",
    "* **D (Derivative)** - Derivative control takes into account the rate at which the error is decreasing, thus it plays an important role in preventing possible overshoot due to the integrator. It deals with the knowledge of future error change.\n",
    "\n",
    "**Drawbacks of P**\n",
    "\n",
    "* In the discrete-time version, the state can oscillate around a certain mean state which isn’t the set point.\n",
    "* Not suitable in cases where a certain state needs to be maintained and external forces like gravity are present irrespective of the error.\n",
    "\n",
    "**Drawbacks of I**\n",
    "* The possibility of overshooting the desired state is high.\n",
    "* In the case of actuator saturation, integral wind-up can occur.\n",
    "\n",
    "**Drawbacks of D**\n",
    "* High-frequency noise can make the derivative contribution higher than required.\n",
    "\n"
   ]
  },
  {
   "cell_type": "markdown",
   "metadata": {
    "id": "587b6c61"
   },
   "source": [
    "\n",
    "### Continuous and discrete-time systems\n",
    "\n",
    "- **Continuous-time systems** — Systems where the evolution of the state is considered for any time. <br>\n",
    "  Example - $$\\dot x = Ax$$\n",
    "\n",
    "- **Discrete-time systems** — Systems where the evolution of the state is considered only at discrete time steps. <br>\n",
    "  Example - (Discrete-time, linear system)  $$ x_{k + 1} = \\tilde Ax_{k}$$\n",
    "  Each time step $k$ is separated  $\\Delta t \\ge \\epsilon > 0$"
   ]
  },
  {
   "cell_type": "markdown",
   "metadata": {
    "id": "tJjrtY15uQom"
   },
   "source": [
    "\n",
    "### Continuous and discrete-time systems\n",
    "\n",
    "- **Continuous-time systems** — Systems where the evolution of the state is considered for any time. <br>\n",
    "  Example - $$\\dot x = Ax$$\n",
    "\n",
    "- **Discrete-time systems** — Systems where the evolution of the state is considered only at discrete time steps. <br>\n",
    "  Example - (Discrete-time, linear system)  $$ x_{k + 1} = \\tilde Ax_{k}$$\n",
    "  Each time step $k$ is separated  $\\Delta t \\ge \\epsilon > 0$"
   ]
  },
  {
   "cell_type": "markdown",
   "metadata": {
    "id": "27QSvI7ouSIn"
   },
   "source": [
    "\n",
    "### Continuous and discrete-time systems\n",
    "\n",
    "- **Continuous-time systems** — Systems where the evolution of the state is considered for any time. <br>\n",
    "  Example - $$\\dot x = Ax$$\n",
    "\n",
    "- **Discrete-time systems** — Systems where the evolution of the state is considered only at discrete time steps. <br>\n",
    "  Example - (Discrete-time, linear system)  $$ x_{k + 1} = \\tilde Ax_{k}$$\n",
    "  Each time step $k$ is separated  $\\Delta t \\ge \\epsilon > 0$"
   ]
  },
  {
   "cell_type": "markdown",
   "metadata": {
    "id": "c065f3dc"
   },
   "source": [
    "\n",
    "Here is a great example where PID Control is utilized in a spring-mass-damper system and the step responses in various cases are analyzed. You shall also get a sneak peek into PID Tuning as well.\n",
    "\n",
    "[Introduction: PID Controller Design](https://ctms.engin.umich.edu/CTMS/index.php?example=Introduction&section=ControlPID)\n",
    "\n"
   ]
  },
  {
   "cell_type": "markdown",
   "metadata": {
    "id": "sWM2m_AnvA_d"
   },
   "source": [
    "\n",
    "Here is another great example where PID Control is utilized in a spring-mass-damper system and the step responses in various cases are analyzed. You shall also get a sneak peek into PID Tuning as well.\n",
    "\n",
    "[Introduction: PID Controller Design](https://ctms.engin.umich.edu/CTMS/index.php?example=Introduction&section=ControlPID)\n",
    "\n"
   ]
  },
  {
   "cell_type": "markdown",
   "metadata": {
    "id": "bc4666a5"
   },
   "source": [
    "Lets do a cool exercise in PID control. You can experiment with different values of PID constants and see how the response of the system changes\n",
    "\n",
    "My plant variable (PV) has to be set to the given set points.\\\n",
    "The plant follows the ODE :\n",
    " $$\\dot{y}=\\frac{1}{\\tau_p}(-(y - 23.0) + K_p  u)$$"
   ]
  },
  {
   "cell_type": "code",
   "execution_count": 1,
   "metadata": {
    "colab": {
     "base_uri": "https://localhost:8080/",
     "height": 418,
     "referenced_widgets": [
      "c50456b8fcd0481682182761d584c43a",
      "6c6fa6e36df94c7084c91cbc4ff8501d",
      "d64e27573ddd431a986f37823a439e19",
      "4bf0b9560dd546e5ab854835fb697567",
      "fd7ec2edfcb647eead9ab3cab1ccb299",
      "823d6db084bb48eeb32eea3f80705a32",
      "697f9bdfb84d48e8a4a5d5f1f06490fb",
      "f52eff66b5834d3e8fffd50471cb27b1",
      "10c0eee7de414164a55045d4b81bdefe",
      "2e5f332428eb42d8837571f3bff10da4",
      "e9a02d19b7134fb79fe3dc14f3e89e54",
      "e5fe4e2557ac4d94bd3c4e284d63b72f",
      "e3b2787ace5a4e548bcd56d398061cd0"
     ]
    },
    "id": "d44ba242",
    "outputId": "fed80b60-3984-4724-b90a-5b54e4453498"
   },
   "outputs": [
    {
     "data": {
      "application/vnd.jupyter.widget-view+json": {
       "model_id": "f9cc4a003da842159fc26daae87a47dd",
       "version_major": 2,
       "version_minor": 0
      },
      "text/plain": [
       "interactive(children=(FloatSlider(value=5.0, description='Kc', max=50.0, step=1.0), FloatSlider(value=5.0, des…"
      ]
     },
     "metadata": {},
     "output_type": "display_data"
    },
    {
     "data": {
      "text/plain": [
       "<function __main__.pidPlot(Kc, tauI, tauD)>"
      ]
     },
     "execution_count": 1,
     "metadata": {},
     "output_type": "execute_result"
    }
   ],
   "source": [
    "import numpy as np\n",
    "import matplotlib.pyplot as plt\n",
    "from scipy.integrate import odeint\n",
    "import ipywidgets as wg\n",
    "\n",
    "n = 1001\n",
    "tf = 1000.0\n",
    "\n",
    "Kp = 0.9\n",
    "tau_p = 175.0\n",
    "theta_p = 15.0\n",
    "\n",
    "def process(y,t,u):\n",
    "    dydt = (1.0/tau_p) * (-(y - 23.0) + Kp * u)\n",
    "    return dydt\n",
    "\n",
    "def pidPlot(Kc,tauI,tauD):\n",
    "    # initializing setpoints and PID parameters\n",
    "    t = np.linspace(0,tf,n) # creates a numpy array where in time_final is divided in n intervals\n",
    "    P = np.zeros(n)\n",
    "    I = np.zeros(n)\n",
    "    D = np.zeros(n)\n",
    "    e = np.zeros(n)\n",
    "    OP = np.zeros(n)\n",
    "    PV = np.ones(n)*23.0  # plant variable\n",
    "    SP = np.ones(n)*23.0\n",
    "    SP[10:300] = 50.0\n",
    "    SP[300:600] = 40.0\n",
    "    SP[600:1001] = 60.0\n",
    "    y0 = 23.0\n",
    "    iae = 0.0\n",
    "\n",
    "    # looping through all time steps\n",
    "    for i in range(1, n):\n",
    "        ts = [t[i - 1], t[i]]\n",
    "        y = odeint(process, y0, ts, args=(OP[max(0, i - int(theta_p))], ))\n",
    "        y0 = y[1]\n",
    "        iae += np.abs(SP[i] - y0[0])\n",
    "        # calculate new OP with PID\n",
    "        PV[i] = y[1]\n",
    "        e[i] = SP[i] - PV[i]\n",
    "        dt = t[i] - t[i - 1]\n",
    "        P[i] = Kc * e[i]\n",
    "        I[i] = I[i - 1] + (Kc/tauI) * e[i] * dt\n",
    "        D[i] = -Kc * tauD * (PV[i] - PV[i - 1])/dt\n",
    "        OP[i] = P[i] + I[i] + D[i]\n",
    "        if OP[i] >= 100:\n",
    "            OP[i] = 100.0\n",
    "            I[i] = I[i-1]\n",
    "        if OP[i] <= 0:\n",
    "            OP[i] = 0.0\n",
    "            I[i] = I[i - 1]\n",
    "\n",
    "    # plot PID response\n",
    "    plt.figure(1, figsize=(20, 7))\n",
    "    plt.subplot(2, 2, 1)\n",
    "    plt.plot(t, SP, 'k-', linewidth=2, label='Setpoint (SP)')\n",
    "    plt.plot(t, PV, 'r:', linewidth=2, label='F(x)')\n",
    "    plt.ylabel('F(x)')\n",
    "    plt.text(100, 30, 'Integral Abs Error: ' + str(np.round(iae, 2)))\n",
    "    plt.legend(loc='best')\n",
    "\n",
    "Kc_slide = wg.FloatSlider(value=5.0, min=0.0, max=50.0, step=1.0)\n",
    "tauI_slide = wg.FloatSlider(value=5.0, min=5.0, max=180.0, step=5.0)\n",
    "tauD_slide = wg.FloatSlider(value=0.0, min=0.0, max=20.0, step=1.0)\n",
    "wg.interact(pidPlot, Kc=Kc_slide, tauI=tauI_slide, tauD=tauD_slide)"
   ]
  },
  {
   "cell_type": "code",
   "execution_count": null,
   "metadata": {},
   "outputs": [],
   "source": []
  }
 ],
 "metadata": {
  "colab": {
   "provenance": []
  },
  "kernelspec": {
   "display_name": "Python 3 (ipykernel)",
   "language": "python",
   "name": "python3"
  },
  "language_info": {
   "codemirror_mode": {
    "name": "ipython",
    "version": 3
   },
   "file_extension": ".py",
   "mimetype": "text/x-python",
   "name": "python",
   "nbconvert_exporter": "python",
   "pygments_lexer": "ipython3",
   "version": "3.10.9"
  },
  "widgets": {
   "application/vnd.jupyter.widget-state+json": {
    "10c0eee7de414164a55045d4b81bdefe": {
     "model_module": "@jupyter-widgets/base",
     "model_module_version": "1.2.0",
     "model_name": "LayoutModel",
     "state": {
      "_model_module": "@jupyter-widgets/base",
      "_model_module_version": "1.2.0",
      "_model_name": "LayoutModel",
      "_view_count": null,
      "_view_module": "@jupyter-widgets/base",
      "_view_module_version": "1.2.0",
      "_view_name": "LayoutView",
      "align_content": null,
      "align_items": null,
      "align_self": null,
      "border": null,
      "bottom": null,
      "display": null,
      "flex": null,
      "flex_flow": null,
      "grid_area": null,
      "grid_auto_columns": null,
      "grid_auto_flow": null,
      "grid_auto_rows": null,
      "grid_column": null,
      "grid_gap": null,
      "grid_row": null,
      "grid_template_areas": null,
      "grid_template_columns": null,
      "grid_template_rows": null,
      "height": null,
      "justify_content": null,
      "justify_items": null,
      "left": null,
      "margin": null,
      "max_height": null,
      "max_width": null,
      "min_height": null,
      "min_width": null,
      "object_fit": null,
      "object_position": null,
      "order": null,
      "overflow": null,
      "overflow_x": null,
      "overflow_y": null,
      "padding": null,
      "right": null,
      "top": null,
      "visibility": null,
      "width": null
     }
    },
    "2e5f332428eb42d8837571f3bff10da4": {
     "model_module": "@jupyter-widgets/controls",
     "model_module_version": "1.5.0",
     "model_name": "SliderStyleModel",
     "state": {
      "_model_module": "@jupyter-widgets/controls",
      "_model_module_version": "1.5.0",
      "_model_name": "SliderStyleModel",
      "_view_count": null,
      "_view_module": "@jupyter-widgets/base",
      "_view_module_version": "1.2.0",
      "_view_name": "StyleView",
      "description_width": "",
      "handle_color": null
     }
    },
    "4bf0b9560dd546e5ab854835fb697567": {
     "model_module": "@jupyter-widgets/controls",
     "model_module_version": "1.5.0",
     "model_name": "FloatSliderModel",
     "state": {
      "_dom_classes": [],
      "_model_module": "@jupyter-widgets/controls",
      "_model_module_version": "1.5.0",
      "_model_name": "FloatSliderModel",
      "_view_count": null,
      "_view_module": "@jupyter-widgets/controls",
      "_view_module_version": "1.5.0",
      "_view_name": "FloatSliderView",
      "continuous_update": true,
      "description": "tauD",
      "description_tooltip": null,
      "disabled": false,
      "layout": "IPY_MODEL_e9a02d19b7134fb79fe3dc14f3e89e54",
      "max": 20,
      "min": 0,
      "orientation": "horizontal",
      "readout": true,
      "readout_format": ".2f",
      "step": 1,
      "style": "IPY_MODEL_e5fe4e2557ac4d94bd3c4e284d63b72f",
      "value": 0
     }
    },
    "697f9bdfb84d48e8a4a5d5f1f06490fb": {
     "model_module": "@jupyter-widgets/base",
     "model_module_version": "1.2.0",
     "model_name": "LayoutModel",
     "state": {
      "_model_module": "@jupyter-widgets/base",
      "_model_module_version": "1.2.0",
      "_model_name": "LayoutModel",
      "_view_count": null,
      "_view_module": "@jupyter-widgets/base",
      "_view_module_version": "1.2.0",
      "_view_name": "LayoutView",
      "align_content": null,
      "align_items": null,
      "align_self": null,
      "border": null,
      "bottom": null,
      "display": null,
      "flex": null,
      "flex_flow": null,
      "grid_area": null,
      "grid_auto_columns": null,
      "grid_auto_flow": null,
      "grid_auto_rows": null,
      "grid_column": null,
      "grid_gap": null,
      "grid_row": null,
      "grid_template_areas": null,
      "grid_template_columns": null,
      "grid_template_rows": null,
      "height": null,
      "justify_content": null,
      "justify_items": null,
      "left": null,
      "margin": null,
      "max_height": null,
      "max_width": null,
      "min_height": null,
      "min_width": null,
      "object_fit": null,
      "object_position": null,
      "order": null,
      "overflow": null,
      "overflow_x": null,
      "overflow_y": null,
      "padding": null,
      "right": null,
      "top": null,
      "visibility": null,
      "width": null
     }
    },
    "6c6fa6e36df94c7084c91cbc4ff8501d": {
     "model_module": "@jupyter-widgets/controls",
     "model_module_version": "1.5.0",
     "model_name": "FloatSliderModel",
     "state": {
      "_dom_classes": [],
      "_model_module": "@jupyter-widgets/controls",
      "_model_module_version": "1.5.0",
      "_model_name": "FloatSliderModel",
      "_view_count": null,
      "_view_module": "@jupyter-widgets/controls",
      "_view_module_version": "1.5.0",
      "_view_name": "FloatSliderView",
      "continuous_update": true,
      "description": "Kc",
      "description_tooltip": null,
      "disabled": false,
      "layout": "IPY_MODEL_697f9bdfb84d48e8a4a5d5f1f06490fb",
      "max": 50,
      "min": 0,
      "orientation": "horizontal",
      "readout": true,
      "readout_format": ".2f",
      "step": 1,
      "style": "IPY_MODEL_f52eff66b5834d3e8fffd50471cb27b1",
      "value": 5
     }
    },
    "823d6db084bb48eeb32eea3f80705a32": {
     "model_module": "@jupyter-widgets/base",
     "model_module_version": "1.2.0",
     "model_name": "LayoutModel",
     "state": {
      "_model_module": "@jupyter-widgets/base",
      "_model_module_version": "1.2.0",
      "_model_name": "LayoutModel",
      "_view_count": null,
      "_view_module": "@jupyter-widgets/base",
      "_view_module_version": "1.2.0",
      "_view_name": "LayoutView",
      "align_content": null,
      "align_items": null,
      "align_self": null,
      "border": null,
      "bottom": null,
      "display": null,
      "flex": null,
      "flex_flow": null,
      "grid_area": null,
      "grid_auto_columns": null,
      "grid_auto_flow": null,
      "grid_auto_rows": null,
      "grid_column": null,
      "grid_gap": null,
      "grid_row": null,
      "grid_template_areas": null,
      "grid_template_columns": null,
      "grid_template_rows": null,
      "height": null,
      "justify_content": null,
      "justify_items": null,
      "left": null,
      "margin": null,
      "max_height": null,
      "max_width": null,
      "min_height": null,
      "min_width": null,
      "object_fit": null,
      "object_position": null,
      "order": null,
      "overflow": null,
      "overflow_x": null,
      "overflow_y": null,
      "padding": null,
      "right": null,
      "top": null,
      "visibility": null,
      "width": null
     }
    },
    "c50456b8fcd0481682182761d584c43a": {
     "model_module": "@jupyter-widgets/controls",
     "model_module_version": "1.5.0",
     "model_name": "VBoxModel",
     "state": {
      "_dom_classes": [
       "widget-interact"
      ],
      "_model_module": "@jupyter-widgets/controls",
      "_model_module_version": "1.5.0",
      "_model_name": "VBoxModel",
      "_view_count": null,
      "_view_module": "@jupyter-widgets/controls",
      "_view_module_version": "1.5.0",
      "_view_name": "VBoxView",
      "box_style": "",
      "children": [
       "IPY_MODEL_6c6fa6e36df94c7084c91cbc4ff8501d",
       "IPY_MODEL_d64e27573ddd431a986f37823a439e19",
       "IPY_MODEL_4bf0b9560dd546e5ab854835fb697567",
       "IPY_MODEL_fd7ec2edfcb647eead9ab3cab1ccb299"
      ],
      "layout": "IPY_MODEL_823d6db084bb48eeb32eea3f80705a32"
     }
    },
    "d64e27573ddd431a986f37823a439e19": {
     "model_module": "@jupyter-widgets/controls",
     "model_module_version": "1.5.0",
     "model_name": "FloatSliderModel",
     "state": {
      "_dom_classes": [],
      "_model_module": "@jupyter-widgets/controls",
      "_model_module_version": "1.5.0",
      "_model_name": "FloatSliderModel",
      "_view_count": null,
      "_view_module": "@jupyter-widgets/controls",
      "_view_module_version": "1.5.0",
      "_view_name": "FloatSliderView",
      "continuous_update": true,
      "description": "tauI",
      "description_tooltip": null,
      "disabled": false,
      "layout": "IPY_MODEL_10c0eee7de414164a55045d4b81bdefe",
      "max": 180,
      "min": 5,
      "orientation": "horizontal",
      "readout": true,
      "readout_format": ".2f",
      "step": 5,
      "style": "IPY_MODEL_2e5f332428eb42d8837571f3bff10da4",
      "value": 5
     }
    },
    "e3b2787ace5a4e548bcd56d398061cd0": {
     "model_module": "@jupyter-widgets/base",
     "model_module_version": "1.2.0",
     "model_name": "LayoutModel",
     "state": {
      "_model_module": "@jupyter-widgets/base",
      "_model_module_version": "1.2.0",
      "_model_name": "LayoutModel",
      "_view_count": null,
      "_view_module": "@jupyter-widgets/base",
      "_view_module_version": "1.2.0",
      "_view_name": "LayoutView",
      "align_content": null,
      "align_items": null,
      "align_self": null,
      "border": null,
      "bottom": null,
      "display": null,
      "flex": null,
      "flex_flow": null,
      "grid_area": null,
      "grid_auto_columns": null,
      "grid_auto_flow": null,
      "grid_auto_rows": null,
      "grid_column": null,
      "grid_gap": null,
      "grid_row": null,
      "grid_template_areas": null,
      "grid_template_columns": null,
      "grid_template_rows": null,
      "height": null,
      "justify_content": null,
      "justify_items": null,
      "left": null,
      "margin": null,
      "max_height": null,
      "max_width": null,
      "min_height": null,
      "min_width": null,
      "object_fit": null,
      "object_position": null,
      "order": null,
      "overflow": null,
      "overflow_x": null,
      "overflow_y": null,
      "padding": null,
      "right": null,
      "top": null,
      "visibility": null,
      "width": null
     }
    },
    "e5fe4e2557ac4d94bd3c4e284d63b72f": {
     "model_module": "@jupyter-widgets/controls",
     "model_module_version": "1.5.0",
     "model_name": "SliderStyleModel",
     "state": {
      "_model_module": "@jupyter-widgets/controls",
      "_model_module_version": "1.5.0",
      "_model_name": "SliderStyleModel",
      "_view_count": null,
      "_view_module": "@jupyter-widgets/base",
      "_view_module_version": "1.2.0",
      "_view_name": "StyleView",
      "description_width": "",
      "handle_color": null
     }
    },
    "e9a02d19b7134fb79fe3dc14f3e89e54": {
     "model_module": "@jupyter-widgets/base",
     "model_module_version": "1.2.0",
     "model_name": "LayoutModel",
     "state": {
      "_model_module": "@jupyter-widgets/base",
      "_model_module_version": "1.2.0",
      "_model_name": "LayoutModel",
      "_view_count": null,
      "_view_module": "@jupyter-widgets/base",
      "_view_module_version": "1.2.0",
      "_view_name": "LayoutView",
      "align_content": null,
      "align_items": null,
      "align_self": null,
      "border": null,
      "bottom": null,
      "display": null,
      "flex": null,
      "flex_flow": null,
      "grid_area": null,
      "grid_auto_columns": null,
      "grid_auto_flow": null,
      "grid_auto_rows": null,
      "grid_column": null,
      "grid_gap": null,
      "grid_row": null,
      "grid_template_areas": null,
      "grid_template_columns": null,
      "grid_template_rows": null,
      "height": null,
      "justify_content": null,
      "justify_items": null,
      "left": null,
      "margin": null,
      "max_height": null,
      "max_width": null,
      "min_height": null,
      "min_width": null,
      "object_fit": null,
      "object_position": null,
      "order": null,
      "overflow": null,
      "overflow_x": null,
      "overflow_y": null,
      "padding": null,
      "right": null,
      "top": null,
      "visibility": null,
      "width": null
     }
    },
    "f52eff66b5834d3e8fffd50471cb27b1": {
     "model_module": "@jupyter-widgets/controls",
     "model_module_version": "1.5.0",
     "model_name": "SliderStyleModel",
     "state": {
      "_model_module": "@jupyter-widgets/controls",
      "_model_module_version": "1.5.0",
      "_model_name": "SliderStyleModel",
      "_view_count": null,
      "_view_module": "@jupyter-widgets/base",
      "_view_module_version": "1.2.0",
      "_view_name": "StyleView",
      "description_width": "",
      "handle_color": null
     }
    },
    "fd7ec2edfcb647eead9ab3cab1ccb299": {
     "model_module": "@jupyter-widgets/output",
     "model_module_version": "1.0.0",
     "model_name": "OutputModel",
     "state": {
      "_dom_classes": [],
      "_model_module": "@jupyter-widgets/output",
      "_model_module_version": "1.0.0",
      "_model_name": "OutputModel",
      "_view_count": null,
      "_view_module": "@jupyter-widgets/output",
      "_view_module_version": "1.0.0",
      "_view_name": "OutputView",
      "layout": "IPY_MODEL_e3b2787ace5a4e548bcd56d398061cd0",
      "msg_id": "",
      "outputs": []
     }
    }
   }
  }
 },
 "nbformat": 4,
 "nbformat_minor": 1
}
